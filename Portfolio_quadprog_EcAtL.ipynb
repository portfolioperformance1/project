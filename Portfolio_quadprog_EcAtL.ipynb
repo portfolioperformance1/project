{
 "cells": [
  {
   "cell_type": "markdown",
   "metadata": {},
   "source": [
    "# Finding the optimal portfolio allocations using the Markowitz Efficient Frontier method.\n",
    "\n",
    "### Data can come from a Yahoo Finance download or from the Economist at Large Excel data. The returns can be monthly or weekly. \n",
    "\n",
    "###  The parameters of the efficient frontier function are \n",
    "- Returns : Dataframe containing monthly or weekly returns; with one column per symbol. It should be an m x n matrix with m observations for n securities.   \n",
    "- short argument is whether short-selling is allowed; default is no (short selling prohibited)\n",
    "- maxAllocation is the maximum % allowed for any one security (reduces concentration) \n",
    "- riskPremiumUp is the upper limit of the risk premium modeled (see for-loop below)\n",
    "- riskIncrement is the increment value used in the for loop"
   ]
  },
  {
   "cell_type": "code",
   "execution_count": 89,
   "metadata": {
    "collapsed": true
   },
   "outputs": [],
   "source": [
    "import numpy as np\n",
    "import pandas as pd # data processing, CSV file I/O (e.g. pd.read_csv)\n",
    "import pandas_datareader as pdr\n",
    "import pandas_datareader.data as pdf\n",
    "import datetime as dt\n",
    "from datetime import datetime, timedelta\n",
    "\n",
    "import quadprog #to use quadprog.solve_qp\n",
    "\n",
    "from cvxopt import matrix, solvers\n",
    "\n",
    "import seaborn as sns\n",
    "import matplotlib.pyplot as plt\n",
    "\n",
    "%matplotlib inline"
   ]
  },
  {
   "cell_type": "markdown",
   "metadata": {},
   "source": [
    "# Data from Yahoo Finance"
   ]
  },
  {
   "cell_type": "code",
   "execution_count": 4,
   "metadata": {
    "collapsed": false
   },
   "outputs": [
    {
     "name": "stdout",
     "output_type": "stream",
     "text": [
      "SPY\n",
      "EFA\n",
      "IWM\n"
     ]
    }
   ],
   "source": [
    "# Run this to take data from Yahoo Finance\n",
    "# symbols = ['AMZN','AAPL','GOOGL','INTC','MSFT']\n",
    "symbolL = [\"SPY\",\"EFA\",\"IWM\"]\n",
    "symbolWeight = [.20, .10, .10]\n",
    "start = datetime(2017, 5, 28) #Thursday 5/25\n",
    "end   = datetime(2017, 9, 1)\n",
    "\n",
    "dataD={}\n",
    "for symbol in symbolL:\n",
    "    print( symbol )\n",
    "    temp1 = pdr.get_data_yahoo(symbol, start, end)\n",
    "    temp1[\"Symbol\"] = symbol\n",
    "    dataD[symbol] = temp1\n",
    "# If you download too frequently, you will be temporarily timed out (error:\"Unable to read url..\")  "
   ]
  },
  {
   "cell_type": "code",
   "execution_count": null,
   "metadata": {
    "collapsed": false
   },
   "outputs": [],
   "source": [
    "# Run for Yahoo daily data\n",
    "# Make a dataframe with just the weekly returns for each symbol\n",
    "# the weekly log return is Friday's closing price minus Monday's closing price\n",
    "symbolL=list(symbolD.keys())\n",
    "wReturns=pd.DataFrame(columns=symbolL)\n",
    "for symbol in symbolL:\n",
    "    print( symbol )\n",
    "    data = symbolD[symbol]\n",
    "    # weekly adjusted closes\n",
    "    #wAdjCloses = data[['Adj Close']].resample('W-FRI').last()-data[['Adj Close']].resample('W-MON').last()  # requires indices to match  \n",
    "    mondays = data[['Adj Close']].resample('W-MON').last().reset_index(drop=True)\n",
    "    fridays = data[['Adj Close']].resample('W-FRI').last().reset_index(drop=True)\n",
    "    \n",
    "    # Calculate the weekly wReturns from a stock's adjusted close\n",
    "    # left join despite different index dates and add suffixes to column names\n",
    "    fridays = pd.merge(fridays, mondays, on=None, how='left', suffixes=('_Fri','_Mon'),left_index=True, right_index=True) #(left|right)_index=True makes the merge happen on their indices.\n",
    "    fridays['Returns']=(fridays['Adj Close_Fri'] - fridays['Adj Close_Mon'])\n",
    "    fridays['PercentReturns']=100.*(fridays['Adj Close_Fri'] - fridays['Adj Close_Mon'])/fridays['Adj Close_Fri']\n",
    "    wReturns[symbol] = fridays[\"PercentReturns\"] #dataframe of weekly returns\n",
    "    #wReturns.append(np.asarray(wAdjCloses)) #list of arrays\n",
    "wReturns.head(3)"
   ]
  },
  {
   "cell_type": "markdown",
   "metadata": {},
   "source": [
    "# Data from Economist At Large Excel workbook"
   ]
  },
  {
   "cell_type": "code",
   "execution_count": 401,
   "metadata": {
    "collapsed": false
   },
   "outputs": [
    {
     "name": "stdout",
     "output_type": "stream",
     "text": [
      "         symbol VWO\n",
      "         symbol EFA\n",
      "         symbol SPY\n",
      "         symbol LQD\n",
      "         symbol HYG\n",
      "         symbol IWM\n",
      "earliest and latest dates:\n",
      " 2001-08-01 00:00:00 \n",
      " 2010-01-04 00:00:00\n"
     ]
    }
   ],
   "source": [
    "# Run this to get data from the EcAtL Excel file\n",
    "symbolL=[\"SPY\",\"IWM\",\"VWO\",\"EFA\",\"LQD\",\"HYG\"]\n",
    "sheets = pd.read_excel(\"./Portfolio-Theory-Investment-Data-Monthly.xlsx\",sheetname=symbolL,header=3)   \n",
    "type(sheets)  # sheets is a dictionary of dataframes of the individual Excel sheets\n",
    "type(sheets['SPY']) \n",
    "\n",
    "start = '2001-08-01' # \"2001-08-01\" # Full range\n",
    "stop = '2010-01-04'   #\"2010-01-04\"\n",
    "# start = '2007-06-01' # \"2007-06-01\"  # fully-filled dates\n",
    "# stop = '2010-01-04'   #\"2010-01-04\"\n",
    "\n",
    "dates=[pd.to_datetime(start),pd.to_datetime(stop)]\n",
    "#dates=[pd.to_datetime(0),pd.to_datetime(0)]\n",
    "symbolD = sheets\n",
    "for symbol, df in symbolD.items():\n",
    "    df0 = df.set_index('Date').sort_index() #starts with earliest dates\n",
    "    df0 = df0.ix[start:stop,0:7]  # If we want all date ranges to match\n",
    "    symbolD[symbol]=df0\n",
    "    print(\"         symbol\", symbol)#, \"start\", start, \"stop\", stop)\n",
    "#     first = df0.index.min()\n",
    "#     last = df0.index.max()\n",
    "#     if first > dates[0]: # fix so it looks for nans?\n",
    "#         dates[0]=start\n",
    "#     if last < dates[1]:\n",
    "#         dates[1]=stop\n",
    "    \n",
    "print(\"earliest and latest dates:\\n\",dates[0],\"\\n\",dates[1])    \n",
    "    \n",
    "spyds=symbolD['SPY']\n",
    "iwmds=symbolD['IWM']\n",
    "vwods=symbolD['VWO']\n",
    "efads=symbolD['EFA']\n",
    "lqdds=symbolD['LQD']\n",
    "hygds=symbolD['HYG'] \n",
    "# df for each symbol can be called by it's individual name (ie.spyds) \n",
    "# or as an item in the dictionary symbolD\n"
   ]
  },
  {
   "cell_type": "code",
   "execution_count": 390,
   "metadata": {
    "collapsed": false
   },
   "outputs": [
    {
     "name": "stdout",
     "output_type": "stream",
     "text": [
      "For dates:\n",
      " 2001-08-01 00:00:00 \n",
      " 2010-01-04 00:00:00\n"
     ]
    },
    {
     "data": {
      "text/html": [
       "<div>\n",
       "<table border=\"1\" class=\"dataframe\">\n",
       "  <thead>\n",
       "    <tr style=\"text-align: right;\">\n",
       "      <th></th>\n",
       "      <th>VWO</th>\n",
       "      <th>EFA</th>\n",
       "      <th>SPY</th>\n",
       "      <th>LQD</th>\n",
       "      <th>HYG</th>\n",
       "      <th>IWM</th>\n",
       "    </tr>\n",
       "  </thead>\n",
       "  <tbody>\n",
       "    <tr>\n",
       "      <th>2005-03-10</th>\n",
       "      <td>NaN</td>\n",
       "      <td>NaN</td>\n",
       "      <td>NaN</td>\n",
       "      <td>NaN</td>\n",
       "      <td>NaN</td>\n",
       "      <td>NaN</td>\n",
       "    </tr>\n",
       "    <tr>\n",
       "      <th>2005-04-01</th>\n",
       "      <td>-0.023356</td>\n",
       "      <td>-0.016187</td>\n",
       "      <td>-0.018761</td>\n",
       "      <td>0.016192</td>\n",
       "      <td>NaN</td>\n",
       "      <td>NaN</td>\n",
       "    </tr>\n",
       "    <tr>\n",
       "      <th>2005-05-02</th>\n",
       "      <td>0.028795</td>\n",
       "      <td>-0.008547</td>\n",
       "      <td>0.032276</td>\n",
       "      <td>0.006171</td>\n",
       "      <td>NaN</td>\n",
       "      <td>NaN</td>\n",
       "    </tr>\n",
       "  </tbody>\n",
       "</table>\n",
       "</div>"
      ],
      "text/plain": [
       "                 VWO       EFA       SPY       LQD  HYG  IWM\n",
       "2005-03-10       NaN       NaN       NaN       NaN  NaN  NaN\n",
       "2005-04-01 -0.023356 -0.016187 -0.018761  0.016192  NaN  NaN\n",
       "2005-05-02  0.028795 -0.008547  0.032276  0.006171  NaN  NaN"
      ]
     },
     "execution_count": 390,
     "metadata": {},
     "output_type": "execute_result"
    }
   ],
   "source": [
    "# Make a single df with just the monthly returns for the various symbols\n",
    "# The monthly returns are (Adj_Close(t) - Adj_Close(t-1))/ Adj_Close(t-1)\n",
    "symbolL=list(symbolD.keys())\n",
    "mReturns=pd.DataFrame(index=list(symbolD[symbolL[0]].index))\n",
    "for symbol in symbolL:\n",
    "    temp1 = symbolD[symbol][[\"Monthly Return\"]].rename(columns={\"Monthly Return\":symbol})\n",
    "    mReturns = pd.merge(mReturns, temp1, on=None, how='left', left_index=True, right_index=True)\n",
    "print(\"For dates:\\n\",dates[0],\"\\n\",dates[1]) \n",
    "mReturns.head(3)"
   ]
  },
  {
   "cell_type": "code",
   "execution_count": 391,
   "metadata": {
    "collapsed": false
   },
   "outputs": [
    {
     "data": {
      "text/html": [
       "<div>\n",
       "<table border=\"1\" class=\"dataframe\">\n",
       "  <thead>\n",
       "    <tr style=\"text-align: right;\">\n",
       "      <th></th>\n",
       "      <th>VWO</th>\n",
       "      <th>EFA</th>\n",
       "      <th>SPY</th>\n",
       "      <th>LQD</th>\n",
       "      <th>HYG</th>\n",
       "      <th>IWM</th>\n",
       "    </tr>\n",
       "  </thead>\n",
       "  <tbody>\n",
       "    <tr>\n",
       "      <th>2009-11-02</th>\n",
       "      <td>0.071698</td>\n",
       "      <td>0.039190</td>\n",
       "      <td>0.061547</td>\n",
       "      <td>0.019546</td>\n",
       "      <td>0.016935</td>\n",
       "      <td>0.031373</td>\n",
       "    </tr>\n",
       "    <tr>\n",
       "      <th>2009-12-01</th>\n",
       "      <td>0.031187</td>\n",
       "      <td>0.007105</td>\n",
       "      <td>0.019113</td>\n",
       "      <td>-0.020682</td>\n",
       "      <td>0.036755</td>\n",
       "      <td>0.079157</td>\n",
       "    </tr>\n",
       "    <tr>\n",
       "      <th>2010-01-04</th>\n",
       "      <td>-0.067317</td>\n",
       "      <td>-0.050651</td>\n",
       "      <td>-0.036342</td>\n",
       "      <td>0.012536</td>\n",
       "      <td>-0.018242</td>\n",
       "      <td>-0.037316</td>\n",
       "    </tr>\n",
       "  </tbody>\n",
       "</table>\n",
       "</div>"
      ],
      "text/plain": [
       "                 VWO       EFA       SPY       LQD       HYG       IWM\n",
       "2009-11-02  0.071698  0.039190  0.061547  0.019546  0.016935  0.031373\n",
       "2009-12-01  0.031187  0.007105  0.019113 -0.020682  0.036755  0.079157\n",
       "2010-01-04 -0.067317 -0.050651 -0.036342  0.012536 -0.018242 -0.037316"
      ]
     },
     "execution_count": 391,
     "metadata": {},
     "output_type": "execute_result"
    }
   ],
   "source": [
    "mReturns.tail(3)\n",
    "#mReturns"
   ]
  },
  {
   "cell_type": "markdown",
   "metadata": {},
   "source": [
    "# Writing data to csv"
   ]
  },
  {
   "cell_type": "code",
   "execution_count": 392,
   "metadata": {
    "collapsed": false
   },
   "outputs": [],
   "source": [
    "# # Packaging the full downloaded data to save to a csv file\n",
    "# # if you want to avoid having to download it each time\n",
    "# # For data from Yahoo or Excel\n",
    "# # Make a single df with data for one symbol stacked vertically \n",
    "# # below the data for another symbol\n",
    "# symbolL=list(symbolD.keys())\n",
    "# cols=list(symbolD[symbolL[0]].columns)\n",
    "# cols = cols.append(\"Symbol\")\n",
    "# alldf = pd.DataFrame(columns=cols) \n",
    "\n",
    "# for symbol in symbolL: \n",
    "#     print(\"symbol\", symbol)\n",
    "#     temp1=symbolD[symbol]\n",
    "#     temp1['Symbol'] = str(symbol)\n",
    "#     alldf =pd.concat([alldf, temp1], axis=0) #stack next df blow, as new rows\n",
    "# alldf.head(3)\n",
    "\n",
    "# # weekly returns\n",
    "# wReturns.to_csv(\"wReturns_data.csv\")\n",
    "# # monthly returns\n",
    "# mReturns.to_csv(\"mReturns_data.csv\")"
   ]
  },
  {
   "cell_type": "markdown",
   "metadata": {},
   "source": [
    "# Summarizing the data"
   ]
  },
  {
   "cell_type": "code",
   "execution_count": 393,
   "metadata": {
    "collapsed": false
   },
   "outputs": [
    {
     "name": "stdout",
     "output_type": "stream",
     "text": [
      "Dates: 2001-08-01 00:00:00  to  2010-01-04 00:00:00\n"
     ]
    },
    {
     "data": {
      "text/html": [
       "<div>\n",
       "<table border=\"1\" class=\"dataframe\">\n",
       "  <thead>\n",
       "    <tr style=\"text-align: right;\">\n",
       "      <th></th>\n",
       "      <th>% Ave Returns</th>\n",
       "      <th>% Std Dev</th>\n",
       "    </tr>\n",
       "  </thead>\n",
       "  <tbody>\n",
       "    <tr>\n",
       "      <th>VWO</th>\n",
       "      <td>1.373503</td>\n",
       "      <td>8.011100</td>\n",
       "    </tr>\n",
       "    <tr>\n",
       "      <th>EFA</th>\n",
       "      <td>0.356678</td>\n",
       "      <td>5.997324</td>\n",
       "    </tr>\n",
       "    <tr>\n",
       "      <th>SPY</th>\n",
       "      <td>0.108283</td>\n",
       "      <td>4.668547</td>\n",
       "    </tr>\n",
       "    <tr>\n",
       "      <th>LQD</th>\n",
       "      <td>0.351329</td>\n",
       "      <td>2.858216</td>\n",
       "    </tr>\n",
       "    <tr>\n",
       "      <th>HYG</th>\n",
       "      <td>0.293817</td>\n",
       "      <td>5.730999</td>\n",
       "    </tr>\n",
       "    <tr>\n",
       "      <th>IWM</th>\n",
       "      <td>-0.520395</td>\n",
       "      <td>7.311764</td>\n",
       "    </tr>\n",
       "  </tbody>\n",
       "</table>\n",
       "</div>"
      ],
      "text/plain": [
       "     % Ave Returns  % Std Dev\n",
       "VWO       1.373503   8.011100\n",
       "EFA       0.356678   5.997324\n",
       "SPY       0.108283   4.668547\n",
       "LQD       0.351329   2.858216\n",
       "HYG       0.293817   5.730999\n",
       "IWM      -0.520395   7.311764"
      ]
     },
     "execution_count": 393,
     "metadata": {},
     "output_type": "execute_result"
    }
   ],
   "source": [
    "# Look at average returns for the dates from start to stop\n",
    "summary = pd.DataFrame({'% Ave Returns':np.mean(mReturns, axis = 0)*100,\n",
    "                        '% Std Dev':np.std(mReturns, axis = 0)*100})\n",
    "type(summary)\n",
    "print('Dates:', dates[0], \" to \", dates[1])\n",
    "summary\n",
    "\n",
    "# Dates: 2001-08-01 00:00:00  to  2010-01-04 00:00:00\n",
    "# \t% Ave Returns\t% Std Dev # roughly matches EcAtLarge\n",
    "# VWO\t1.373503\t8.011100\n",
    "# EFA\t0.356678\t5.997324\n",
    "# SPY\t0.108283\t4.668547\n",
    "# LQD\t0.351329\t2.858216\n",
    "# HYG\t0.293817\t5.730999\n",
    "# IWM\t0.255663\t6.087090\n",
    "\n",
    "# \t Average Monthly Return\tStandard Deviation From EcAtLarge\n",
    "\n",
    "#  VWO\t 1.37%\t 8.08%\n",
    "#  EFA\t .54%\t 5.46% #\n",
    "#  SPY\t .19%\t 4.53% #\n",
    "#  LQD\t .47%\t 2.65% #\n",
    "#  HYG\t .29%\t 5.82%\n",
    "#  IWM\t .53%\t 6.02% #"
   ]
  },
  {
   "cell_type": "code",
   "execution_count": 394,
   "metadata": {
    "collapsed": false
   },
   "outputs": [
    {
     "name": "stdout",
     "output_type": "stream",
     "text": [
      "(6, 6)\n",
      "correlation\n",
      "Dates: 2001-08-01 00:00:00  to  2010-01-04 00:00:00\n"
     ]
    },
    {
     "data": {
      "text/html": [
       "<div>\n",
       "<table border=\"1\" class=\"dataframe\">\n",
       "  <thead>\n",
       "    <tr style=\"text-align: right;\">\n",
       "      <th></th>\n",
       "      <th>VWO</th>\n",
       "      <th>EFA</th>\n",
       "      <th>SPY</th>\n",
       "      <th>LQD</th>\n",
       "      <th>HYG</th>\n",
       "      <th>IWM</th>\n",
       "    </tr>\n",
       "  </thead>\n",
       "  <tbody>\n",
       "    <tr>\n",
       "      <th>VWO</th>\n",
       "      <td>1.000000</td>\n",
       "      <td>0.908802</td>\n",
       "      <td>0.838727</td>\n",
       "      <td>0.343254</td>\n",
       "      <td>0.694134</td>\n",
       "      <td>0.797515</td>\n",
       "    </tr>\n",
       "    <tr>\n",
       "      <th>EFA</th>\n",
       "      <td>0.908802</td>\n",
       "      <td>1.000000</td>\n",
       "      <td>0.909643</td>\n",
       "      <td>0.475779</td>\n",
       "      <td>0.774638</td>\n",
       "      <td>0.868858</td>\n",
       "    </tr>\n",
       "    <tr>\n",
       "      <th>SPY</th>\n",
       "      <td>0.838727</td>\n",
       "      <td>0.909643</td>\n",
       "      <td>1.000000</td>\n",
       "      <td>0.392078</td>\n",
       "      <td>0.756804</td>\n",
       "      <td>0.939409</td>\n",
       "    </tr>\n",
       "    <tr>\n",
       "      <th>LQD</th>\n",
       "      <td>0.343254</td>\n",
       "      <td>0.475779</td>\n",
       "      <td>0.392078</td>\n",
       "      <td>1.000000</td>\n",
       "      <td>0.738500</td>\n",
       "      <td>0.384730</td>\n",
       "    </tr>\n",
       "    <tr>\n",
       "      <th>HYG</th>\n",
       "      <td>0.694134</td>\n",
       "      <td>0.774638</td>\n",
       "      <td>0.756804</td>\n",
       "      <td>0.738500</td>\n",
       "      <td>1.000000</td>\n",
       "      <td>0.805202</td>\n",
       "    </tr>\n",
       "    <tr>\n",
       "      <th>IWM</th>\n",
       "      <td>0.797515</td>\n",
       "      <td>0.868858</td>\n",
       "      <td>0.939409</td>\n",
       "      <td>0.384730</td>\n",
       "      <td>0.805202</td>\n",
       "      <td>1.000000</td>\n",
       "    </tr>\n",
       "  </tbody>\n",
       "</table>\n",
       "</div>"
      ],
      "text/plain": [
       "          VWO       EFA       SPY       LQD       HYG       IWM\n",
       "VWO  1.000000  0.908802  0.838727  0.343254  0.694134  0.797515\n",
       "EFA  0.908802  1.000000  0.909643  0.475779  0.774638  0.868858\n",
       "SPY  0.838727  0.909643  1.000000  0.392078  0.756804  0.939409\n",
       "LQD  0.343254  0.475779  0.392078  1.000000  0.738500  0.384730\n",
       "HYG  0.694134  0.774638  0.756804  0.738500  1.000000  0.805202\n",
       "IWM  0.797515  0.868858  0.939409  0.384730  0.805202  1.000000"
      ]
     },
     "execution_count": 394,
     "metadata": {},
     "output_type": "execute_result"
    }
   ],
   "source": [
    "# Let's see the correlation matrix \n",
    "# (Correlation matrix is like a normalized covariance matrix. I use it here because the correlation function ignores nans whereas the covariance matrix gives nans for any missing return value)\n",
    "\n",
    "correlation = mReturns.corr()\n",
    "\n",
    "#allReturns = np.asarray(mReturns[['VWO','EFA']]) #np.cov requires array\n",
    "#covariance = np.cov(allReturns, rowvar=0)  # not using np.cov bc it doesn't work with nans\n",
    "\n",
    "print(correlation.shape)\n",
    "print(\"correlation\")\n",
    "print('Dates:', dates[0], \" to \", dates[1])\n",
    "correlation"
   ]
  },
  {
   "cell_type": "code",
   "execution_count": null,
   "metadata": {
    "collapsed": true
   },
   "outputs": [],
   "source": []
  },
  {
   "cell_type": "markdown",
   "metadata": {},
   "source": [
    "# Creating the efficient frontier function"
   ]
  },
  {
   "cell_type": "code",
   "execution_count": 463,
   "metadata": {
    "collapsed": true
   },
   "outputs": [],
   "source": [
    "#### Efficient Frontier function ####\n",
    "\n",
    "def eff_frontier(Returns, short=\"no\", maxAllocation=None, \\\n",
    "                 riskPremiumUp=.5, riskIncrement=.005):\n",
    "# return argument should be a m x n matrix with one column per security\n",
    "# short argument is whether short-selling is allowed; default is no (short\n",
    "# selling prohibited)\n",
    "# maxAllocation is the maximum % allowed for any one security (reduces concentration) \n",
    "# riskPremiumUp is the upper limit of the risk premium modeled (see for loop below) and \n",
    "# riskIncrement is the increment value used in the for loop\n",
    "    symbols=list(Returns.columns)\n",
    "    allReturns = np.asarray(Returns)\n",
    "#     covariance = np.asarray(mReturns.corr())\n",
    "    covariance = np.cov(allReturns, rowvar=0)\n",
    "    n = len(symbols)\n",
    "# Create initial Amat and bvec assuming only equality constraint\n",
    "# (short-selling is allowed, no allocation constraints)\n",
    "    ones=[1.]*n\n",
    "    Amat = np.diag(ones)  # construct an n x n diagonal matrix with values as the diagonal terms, [r] Amat = matrix (1, nrow=n)\n",
    "    bvec = 1.\n",
    "    meq = 1.\n",
    "# Then modify the Amat and bvec if short-selling is prohibited\n",
    "    if short ==\"no\": #second\n",
    "        Amat = np.column_stack((ones, Amat)) #[r] Amat = cbind(1, diag(n))\n",
    "        bvec = [1.]+[0.]*n #[r] c(bvec, rep(0, n))\n",
    "        # Amat should be shape (n x n+1) and bvec will be (n+1, )\n",
    "# And modify Amat and bvec if a max allocation (concentration) is specified\n",
    "    if maxAllocation != None:\n",
    "        if any([maxAllocation > 1, maxAllocation <0]):\n",
    "            stop(\"maxAllocation must be greater than 0 and less than 1\")\n",
    "    if (maxAllocation * n) < 1:\n",
    "        stop(\"Need to set maxAllocation higher; not enough assets to add to 1\")\n",
    "    Amat = np.column_stack((Amat, -np.diag(ones)))\n",
    "    bvec = np.array(bvec+[-maxAllocation]*n) # [r] bvec = c(bvec, rep(-maxAllocation, n))\n",
    "    # \n",
    "    # # Calculate the number of loops\n",
    "    iL=np.arange(0.0, riskPremiumUp+riskIncrement, riskIncrement) #include riskPremiumUp, which is entered as a function argument\n",
    "    #\n",
    "    # # Initialize a matrix to contain allocation and statistics\n",
    "    # # This is not necessary, but speeds up processing and uses less memory\n",
    "    eff = pd.DataFrame(index=iL, columns=symbols+[\"% Std_Dev\", \"% Exp_Return\",\"Sharpe\"])\n",
    "    # # Loop through the quadratic program solver\n",
    "    for i in iL:\n",
    "        aveReturns =np.mean(allReturns, axis=0)\n",
    "        dvec = aveReturns * i # This moves the solution along the EF\n",
    "#         if i == iL[2]: # inputs\n",
    "#             print('covariance', covariance.shape, type(covariance)) # make sure every input is numpy array\n",
    "#             print('     ', covariance[0,:])\n",
    "#             print('dvec', dvec.shape, type(dvec))\n",
    "#             print('     ', dvec)\n",
    "#             print('Amat', Amat.shape, type(Amat))\n",
    "#             print('     ', Amat[0,:])\n",
    "#             print('bvec', bvec.shape, type(bvec))\n",
    "#             print('     ', bvec)\n",
    "        sol = quadprog.solve_qp(covariance, dvec, Amat, bvec, meq)\n",
    "        #sol = quadprog.solve_qp(Dmat, dvec, Amat, bvec) # Keep for reference\n",
    "        Solution = sol[0]\n",
    "        Value = sol[1]\n",
    "        UnconstrainedSol = sol[2]\n",
    "        Iterations = sol[3]\n",
    "        Lagrangian = sol[4]\n",
    "        iact = sol[5]\n",
    "#         if i == iL[0]: # outputs\n",
    "#             #print(\"sol\", len(sol), sol)\n",
    "#             print(\"Solution\", Solution)\n",
    "#             print(\"Value\", Value)\n",
    "#             print(\"UnconstrainedSol\", UnconstrainedSol)\n",
    "#             print(\"Iterations\", Iterations)\n",
    "#             print(\"Lagrangian\", Lagrangian)\n",
    "#             print(\"iact\", iact)\n",
    "        eff.loc[i,\"% Std_Dev\"]    = np.sqrt(sum(Solution*np.sum((covariance*Solution), axis=0)))*100\n",
    "        eff.loc[i,\"% Exp_Return\"] = (Solution @ aveReturns)*100  # In R, %*% is matrix or vector (dot) product\n",
    "        eff.loc[i,\"Sharpe\"]     = eff.loc[i,\"% Exp_Return\"] / eff.loc[i,\"% Std_Dev\"]\n",
    "        eff.loc[i,symbols]      = Solution\n",
    "    return(eff)"
   ]
  },
  {
   "cell_type": "markdown",
   "metadata": {},
   "source": [
    "# Solving for the efficient frontier"
   ]
  },
  {
   "cell_type": "code",
   "execution_count": 486,
   "metadata": {
    "collapsed": true
   },
   "outputs": [],
   "source": [
    "# Pick dates\n",
    "# start = '2007-06-01' # \"2007-06-01\" # dates with no nans\n",
    "# stop = '2010-01-04'   #\"2010-01-04\"\n",
    "start = '2001-08-01' # \"2001-08-01\" # Full range\n",
    "stop = '2010-01-04'   #\"2010-01-04\"\n",
    "dates=[pd.to_datetime(start),pd.to_datetime(stop)]\n",
    "mReturns = mReturns.ix[start:stop,:]"
   ]
  },
  {
   "cell_type": "code",
   "execution_count": 493,
   "metadata": {
    "collapsed": false
   },
   "outputs": [
    {
     "name": "stdout",
     "output_type": "stream",
     "text": [
      "For dates: 2001-08-01 00:00:00  to  2010-01-04 00:00:00\n",
      "\n",
      " Highest achieved Sharpe value 0.0460766177338\n",
      "\n",
      " effOptimalPoint\n"
     ]
    },
    {
     "data": {
      "text/plain": [
       "[<matplotlib.lines.Line2D at 0x11c1e0748>]"
      ]
     },
     "execution_count": 493,
     "metadata": {},
     "output_type": "execute_result"
    },
    {
     "data": {
      "image/png": "[encoded data removed]",
      "text/plain": [
       "<matplotlib.figure.Figure at 0x11c1e0b38>"
      ]
     },
     "metadata": {},
     "output_type": "display_data"
    }
   ],
   "source": [
    "# # Run the eff.frontier function based on no short and 50% alloc. restrictions\n",
    "# eff = eff_frontier(wReturns, short=\"no\", maxAllocation=.50,\n",
    "#  riskPremiumUp=1, riskIncrement=.1) #risk.increment=.001 originally\n",
    "# print(eff.head())\n",
    "# eff.tail()\n",
    "\n",
    "# Run the eff.frontier function based on no short and 50% alloc. restrictions\n",
    "# monthly returns from the Excel file\n",
    "# riskPremiumUp <= maxAllocation makes sense, upper end of curve\n",
    "eff = eff_frontier(mReturns, short=\"no\", maxAllocation=.60,\n",
    " riskPremiumUp=0.3, riskIncrement=.001) #risk.increment=.001 originally\n",
    "#print(eff.head(3))\n",
    "\n",
    "maxSharpe=max(eff.Sharpe)\n",
    "print('For dates:', dates[0], \" to \", dates[1])\n",
    "print('\\n Highest achieved Sharpe value', maxSharpe)\n",
    "\n",
    "# Find the optimal portfolio\n",
    "effOptimalPoint = eff.loc[eff.Sharpe == max(eff.Sharpe), : ]\n",
    "effOptimalPoint = effOptimalPoint.iloc[0] # Take the first row, if there happen to be multiple rows with max Sharpe value\n",
    "print('\\n effOptimalPoint')\n",
    "effOptimalPoint.head()\n",
    "\n",
    "# Efficient Frontier Plot\n",
    "xvals=eff['% Std_Dev']\n",
    "yvals=eff['% Exp_Return']\n",
    "plt.plot(xvals, yvals)\n",
    "\n",
    "xmax=effOptimalPoint['% Std_Dev']\n",
    "ymax=effOptimalPoint['% Exp_Return']\n",
    "plt.plot(xmax, ymax, marker='o', markersize=3, color='red', label='Optimal Portfolio')\n",
    "\n",
    "\n",
    "# For dates: 2007-06-01 00:00:00  to  2010-01-04 00:00:00\n",
    "# The optimal portfolio has 50% LQD, 45% HYG, and 5% VWO. \n",
    "# It's return is 0.35%\n",
    "# It's risk is 7.8%\n",
    "\n",
    "# For full dates, I get nans\n",
    "\n",
    "# The set with the highest Sharpe Ratio (or slope) is the optimal portfolio.  \n",
    "# In this set, an investor with these six investment alternatives\n",
    "# should consider investing 44% in VWO and 56% in LQD. (EcAtL for full dates)"
   ]
  },
  {
   "cell_type": "code",
   "execution_count": 515,
   "metadata": {
    "collapsed": false
   },
   "outputs": [
    {
     "data": {
      "text/plain": [
       "<matplotlib.legend.Legend at 0x11c8d8240>"
      ]
     },
     "execution_count": 515,
     "metadata": {},
     "output_type": "execute_result"
    },
    {
     "data": {
      "image/png": "[encoded data removed]",
      "text/plain": [
       "<matplotlib.figure.Figure at 0x11c8d8198>"
      ]
     },
     "metadata": {},
     "output_type": "display_data"
    }
   ],
   "source": [
    "# Allocation of various products\n",
    "yvals=eff.iloc[:,0:6]\n",
    "labels=list(eff.columns[0:6])\n",
    "\n",
    "lineObjects = plt.plot(yvals) #, label=labels)\n",
    "plt.legend(lineObjects, labels)\n"
   ]
  },
  {
   "cell_type": "code",
   "execution_count": 494,
   "metadata": {
    "collapsed": false
   },
   "outputs": [
    {
     "name": "stdout",
     "output_type": "stream",
     "text": [
      "Sharpe ration as a function of the index i\n"
     ]
    },
    {
     "data": {
      "image/png": "[encoded data removed]",
      "text/plain": [
       "<matplotlib.figure.Figure at 0x11beda710>"
      ]
     },
     "metadata": {},
     "output_type": "display_data"
    }
   ],
   "source": [
    "yvals=eff['Sharpe']\n",
    "plt.plot( yvals)\n",
    "print('Sharpe ration as a function of the index i')"
   ]
  },
  {
   "cell_type": "code",
   "execution_count": 495,
   "metadata": {
    "collapsed": false
   },
   "outputs": [
    {
     "name": "stdout",
     "output_type": "stream",
     "text": [
      "Sharpe ration as a function of the index i\n"
     ]
    },
    {
     "data": {
      "image/png": "[encoded data removed]",
      "text/plain": [
       "<matplotlib.figure.Figure at 0x11bdfd668>"
      ]
     },
     "metadata": {},
     "output_type": "display_data"
    }
   ],
   "source": [
    "yvals=eff['% Std_Dev'] # Standard deviation isn't changing much\n",
    "plt.plot( yvals)\n",
    "print('Sharpe ration as a function of the index i')"
   ]
  },
  {
   "cell_type": "code",
   "execution_count": 496,
   "metadata": {
    "collapsed": false
   },
   "outputs": [
    {
     "data": {
      "text/plain": [
       "[<matplotlib.lines.Line2D at 0x11af41e48>]"
      ]
     },
     "execution_count": 496,
     "metadata": {},
     "output_type": "execute_result"
    },
    {
     "data": {
      "image/png": "[encoded data removed]",
      "text/plain": [
       "<matplotlib.figure.Figure at 0x11baa5710>"
      ]
     },
     "metadata": {},
     "output_type": "display_data"
    }
   ],
   "source": [
    "xvals=eff['% Std_Dev']  \n",
    "yvals=eff['Sharpe']\n",
    "plt.plot(xvals, yvals)"
   ]
  },
  {
   "cell_type": "code",
   "execution_count": 510,
   "metadata": {
    "collapsed": false
   },
   "outputs": [
    {
     "data": {
      "text/plain": [
       "['VWO', 'EFA', 'SPY']"
      ]
     },
     "execution_count": 510,
     "metadata": {},
     "output_type": "execute_result"
    }
   ],
   "source": [
    "type(eff)\n",
    "list(eff.columns[0:3])"
   ]
  },
  {
   "cell_type": "code",
   "execution_count": 488,
   "metadata": {
    "collapsed": false
   },
   "outputs": [
    {
     "data": {
      "text/html": [
       "<div>\n",
       "<table border=\"1\" class=\"dataframe\">\n",
       "  <thead>\n",
       "    <tr style=\"text-align: right;\">\n",
       "      <th></th>\n",
       "      <th>VWO</th>\n",
       "      <th>EFA</th>\n",
       "      <th>SPY</th>\n",
       "      <th>LQD</th>\n",
       "      <th>HYG</th>\n",
       "      <th>IWM</th>\n",
       "      <th>% Std_Dev</th>\n",
       "      <th>% Exp_Return</th>\n",
       "      <th>Sharpe</th>\n",
       "    </tr>\n",
       "  </thead>\n",
       "  <tbody>\n",
       "    <tr>\n",
       "      <th>0.000</th>\n",
       "      <td>-2.77556e-17</td>\n",
       "      <td>-1.79225e-16</td>\n",
       "      <td>0.431284</td>\n",
       "      <td>0.5</td>\n",
       "      <td>0.068716</td>\n",
       "      <td>0</td>\n",
       "      <td>7.77741</td>\n",
       "      <td>-0.0976565</td>\n",
       "      <td>-0.0125564</td>\n",
       "    </tr>\n",
       "    <tr>\n",
       "      <th>0.001</th>\n",
       "      <td>-2.77556e-17</td>\n",
       "      <td>-1.79088e-16</td>\n",
       "      <td>0.425157</td>\n",
       "      <td>0.5</td>\n",
       "      <td>0.0748431</td>\n",
       "      <td>0</td>\n",
       "      <td>7.71746</td>\n",
       "      <td>-0.0913429</td>\n",
       "      <td>-0.0118359</td>\n",
       "    </tr>\n",
       "    <tr>\n",
       "      <th>0.002</th>\n",
       "      <td>0</td>\n",
       "      <td>-1.78952e-16</td>\n",
       "      <td>0.41903</td>\n",
       "      <td>0.5</td>\n",
       "      <td>0.0809702</td>\n",
       "      <td>1.38778e-17</td>\n",
       "      <td>7.65901</td>\n",
       "      <td>-0.0850294</td>\n",
       "      <td>-0.0111019</td>\n",
       "    </tr>\n",
       "  </tbody>\n",
       "</table>\n",
       "</div>"
      ],
      "text/plain": [
       "               VWO          EFA       SPY  LQD        HYG          IWM  \\\n",
       "0.000 -2.77556e-17 -1.79225e-16  0.431284  0.5   0.068716            0   \n",
       "0.001 -2.77556e-17 -1.79088e-16  0.425157  0.5  0.0748431            0   \n",
       "0.002            0 -1.78952e-16   0.41903  0.5  0.0809702  1.38778e-17   \n",
       "\n",
       "      % Std_Dev % Exp_Return     Sharpe  \n",
       "0.000   7.77741   -0.0976565 -0.0125564  \n",
       "0.001   7.71746   -0.0913429 -0.0118359  \n",
       "0.002   7.65901   -0.0850294 -0.0111019  "
      ]
     },
     "execution_count": 488,
     "metadata": {},
     "output_type": "execute_result"
    }
   ],
   "source": [
    "eff.head(3)"
   ]
  },
  {
   "cell_type": "code",
   "execution_count": 489,
   "metadata": {
    "collapsed": false
   },
   "outputs": [
    {
     "data": {
      "text/html": [
       "<div>\n",
       "<table border=\"1\" class=\"dataframe\">\n",
       "  <thead>\n",
       "    <tr style=\"text-align: right;\">\n",
       "      <th></th>\n",
       "      <th>VWO</th>\n",
       "      <th>EFA</th>\n",
       "      <th>SPY</th>\n",
       "      <th>LQD</th>\n",
       "      <th>HYG</th>\n",
       "      <th>IWM</th>\n",
       "      <th>% Std_Dev</th>\n",
       "      <th>% Exp_Return</th>\n",
       "      <th>Sharpe</th>\n",
       "    </tr>\n",
       "  </thead>\n",
       "  <tbody>\n",
       "    <tr>\n",
       "      <th>0.3</th>\n",
       "      <td>3.71231e-16</td>\n",
       "      <td>-8.12724e-16</td>\n",
       "      <td>5.4703e-16</td>\n",
       "      <td>0.5</td>\n",
       "      <td>0.5</td>\n",
       "      <td>-5.10399e-17</td>\n",
       "      <td>8.26705</td>\n",
       "      <td>0.346751</td>\n",
       "      <td>0.0419437</td>\n",
       "    </tr>\n",
       "  </tbody>\n",
       "</table>\n",
       "</div>"
      ],
      "text/plain": [
       "             VWO          EFA         SPY  LQD  HYG          IWM % Std_Dev  \\\n",
       "0.3  3.71231e-16 -8.12724e-16  5.4703e-16  0.5  0.5 -5.10399e-17   8.26705   \n",
       "\n",
       "    % Exp_Return     Sharpe  \n",
       "0.3     0.346751  0.0419437  "
      ]
     },
     "execution_count": 489,
     "metadata": {},
     "output_type": "execute_result"
    }
   ],
   "source": [
    "eff[.30:.45]"
   ]
  },
  {
   "cell_type": "code",
   "execution_count": null,
   "metadata": {
    "collapsed": true
   },
   "outputs": [],
   "source": []
  },
  {
   "cell_type": "code",
   "execution_count": null,
   "metadata": {
    "collapsed": true
   },
   "outputs": [],
   "source": []
  },
  {
   "cell_type": "code",
   "execution_count": 301,
   "metadata": {
    "collapsed": true
   },
   "outputs": [],
   "source": [
    "# Output from R version\n",
    "# weekly.returns    weekly.returns.1    Std.Dev\n",
    "# 2\t0.5\t0.5\t0.019537\t\n",
    "# 3\t0.5\t0.5\t0.019537\n",
    "# Std.Dev    Exp.Return      sharpe\n",
    "# 0.019537\t-0.006155004\t-0.3150434\n",
    "# 0.019537\t-0.006155004\t-0.3150434"
   ]
  },
  {
   "cell_type": "code",
   "execution_count": 102,
   "metadata": {
    "collapsed": false
   },
   "outputs": [
    {
     "data": {
      "text/plain": [
       "(array([ 0.47619048,  1.04761905,  2.0952381 ]),\n",
       " -2.380952380952381,\n",
       " array([ 0.,  5.,  0.]),\n",
       " array([3, 0], dtype=int32),\n",
       " array([ 0.        ,  0.23809524,  2.0952381 ]),\n",
       " array([3, 2], dtype=int32))"
      ]
     },
     "execution_count": 102,
     "metadata": {},
     "output_type": "execute_result"
    }
   ],
   "source": [
    "# qp_G = Dmat   =  covariance \n",
    "#        matrix appearing in the quadratic function to be minimized.     \n",
    "# qp_C = ? dvec ?\n",
    "#        vector appearing in the quadratic function to be minimized.\n",
    "# qp_a = Amat\n",
    "#        matrix defining the constraints under which we want to minimize the quadratic function.\n",
    "# qp_b = bvec\n",
    "#        vector holding the values of b0 (defaults to zero).\n",
    "# meq  = meq\n",
    "#        the first meq constraints are treated as equality constraints, all further as inequality constraints (defaults to 0).\n",
    "\n",
    "#sol <- solve.QP(covariance, dvec=dvec, Amat=Amat, bvec=bvec, meq=meq)\n",
    "#sol = quadprog.solve_qp(qp_G, qp_C, qp_a, qp_b, meq)[0]\n",
    "\n",
    "# Example:\n",
    "# Dmat       <- matrix(0,3,3)\n",
    "# diag(Dmat) <- 1\n",
    "# dvec       <- c(0,5,0)\n",
    "# Amat       <- matrix(c(-4,-3,0,2,1,0,0,-2,1),3,3)\n",
    "# bvec       <- c(-8,2,0)\n",
    "#solve.QP(Dmat,dvec,Amat,bvec=bvec)\n",
    "\n",
    "Dmat = np.diag([1.]*3)  #diagonal matrix I=1\n",
    "dvec = np.array([0.,5.,0.])\n",
    "Amat = matrix([-4.,-3.,0.,2.,1.,0.,0.,-2.,1.],(3,3))\n",
    "bvec = np.array([-8., 2., 0.]).reshape((3,))\n",
    "meq  =  0 #same as omitting meq\n",
    "\n",
    "sol = quadprog.solve_qp(Dmat, dvec, Amat, bvec)\n",
    "sol"
   ]
  },
  {
   "cell_type": "code",
   "execution_count": null,
   "metadata": {
    "collapsed": true
   },
   "outputs": [],
   "source": []
  }
 ],
 "metadata": {
  "kernelspec": {
   "display_name": "Python 3",
   "language": "python",
   "name": "python3"
  },
  "language_info": {
   "codemirror_mode": {
    "name": "ipython",
    "version": 3
   },
   "file_extension": ".py",
   "mimetype": "text/x-python",
   "name": "python",
   "nbconvert_exporter": "python",
   "pygments_lexer": "ipython3",
   "version": "3.6.0"
  }
 },
 "nbformat": 4,
 "nbformat_minor": 2
}
